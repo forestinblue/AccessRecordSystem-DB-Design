{
  "cells": [
    {
      "cell_type": "code",
      "execution_count": null,
      "metadata": {
        "id": "MVa-aJNoZSOB"
      },
      "outputs": [],
      "source": [
        "import pandas as pd\n"
      ]
    },
    {
      "cell_type": "code",
      "execution_count": null,
      "metadata": {
        "id": "OZxvZdltZ6yK"
      },
      "outputs": [],
      "source": [
        "from google.colab import files\n",
        "import pandas as pd\n",
        "\n",
        "files.upload()\n",
        "df = pd.read_csv('report.csv')"
      ]
    },
    {
      "cell_type": "code",
      "execution_count": null,
      "metadata": {
        "id": "aYek1a4ye2jv"
      },
      "outputs": [],
      "source": [
        "UserData = df.copy()\n",
        "UserData"
      ]
    },
    {
      "cell_type": "code",
      "execution_count": null,
      "metadata": {
        "id": "mirgB_k4fXK4"
      },
      "outputs": [],
      "source": [
        "UserData.info()"
      ]
    },
    {
      "cell_type": "code",
      "execution_count": null,
      "metadata": {
        "id": "jg2SJEg9UqxX"
      },
      "outputs": [],
      "source": [
        "UserData = UserData[UserData.Card.notnull()]\n",
        "UserData.reset_index(drop=True, inplace=True)\n",
        "UserData = UserData[UserData['Card'] !='' ]\n",
        "UserData.reset_index(drop=True, inplace=True)\n",
        "UserData"
      ]
    },
    {
      "cell_type": "code",
      "execution_count": null,
      "metadata": {
        "id": "j21f5UzwfYyc"
      },
      "outputs": [],
      "source": [
        "UserData.describe()"
      ]
    },
    {
      "cell_type": "code",
      "execution_count": null,
      "metadata": {
        "id": "cgP6qnN0fozk"
      },
      "outputs": [],
      "source": [
        "UserData['Badge'].unique()"
      ]
    },
    {
      "cell_type": "code",
      "execution_count": null,
      "metadata": {
        "id": "RSHbU1FvgRwm"
      },
      "outputs": [],
      "source": [
        "UserData['Name'].unique()"
      ]
    },
    {
      "cell_type": "code",
      "execution_count": null,
      "metadata": {
        "id": "MlzAoItlgUOa"
      },
      "outputs": [],
      "source": [
        "UserData['Gender'].unique()\n",
        "#Female FEMALE"
      ]
    },
    {
      "cell_type": "code",
      "execution_count": null,
      "metadata": {
        "id": "pB6-aA1dgY_A"
      },
      "outputs": [],
      "source": [
        "UserData['Nation'].unique()\n",
        " #'Korea Republic of',  'Korea Rep.'\n",
        " #China  CHINESE"
      ]
    },
    {
      "cell_type": "code",
      "execution_count": null,
      "metadata": {
        "id": "CBkSRSpzgdqp"
      },
      "outputs": [],
      "source": [
        "UserData['Company'].unique()"
      ]
    },
    {
      "cell_type": "code",
      "execution_count": null,
      "metadata": {
        "id": "XMV3J6k6gc0c"
      },
      "outputs": [],
      "source": [
        "UserData['Contract'].unique()"
      ]
    },
    {
      "cell_type": "code",
      "execution_count": null,
      "metadata": {
        "id": "DJKF56AEgjhy"
      },
      "outputs": [],
      "source": [
        "\t\n",
        "UserData['Position'].unique()"
      ]
    },
    {
      "cell_type": "code",
      "execution_count": null,
      "metadata": {
        "id": "Q2MGvtj6gjfa"
      },
      "outputs": [],
      "source": [
        "UserData['Card'].unique()"
      ]
    },
    {
      "cell_type": "code",
      "execution_count": null,
      "metadata": {
        "id": "rbtfPO1Jgjc2"
      },
      "outputs": [],
      "source": [
        "UserData['C.Status'].unique()"
      ]
    },
    {
      "cell_type": "code",
      "execution_count": null,
      "metadata": {
        "id": "OuDZfcdggu7Z"
      },
      "outputs": [],
      "source": [
        "UserData['Accessibiliity'].unique()"
      ]
    },
    {
      "cell_type": "code",
      "execution_count": null,
      "metadata": {
        "id": "Y3Y_h8IKguxO"
      },
      "outputs": [],
      "source": [
        "UserData[0:10]\n",
        "\n",
        "#유저가 필요한 데이터\n",
        "#badge 이름 , 계약 업체, 회사 직위 , \n",
        "#모델을 만들어라\n",
        "\n",
        "#string , integer \n",
        "#card id 속성 \n",
        "\n",
        "#컬럼별 데이터 속성을 적절하게 지정\n",
        "#female , male 등등 정리  \n",
        "\n"
      ]
    },
    {
      "cell_type": "code",
      "execution_count": null,
      "metadata": {
        "id": "Su_rozhKj2Ol"
      },
      "outputs": [],
      "source": [
        "#Numeric Types: int(정수), float(소수), complex(복소수)\n",
        "#Sequence Types: str(문자열), list(리스트), tuple(튜플)\n",
        "#Mapping Type: dict(딕셔너리)\n",
        "#Set Types: set(집합)\n",
        "#Boolean Type: bool(불리언)\n",
        "#Binary Types: bytes, bytearray, memoryview\n",
        "\n",
        "#정수(int): Badge , Card (만약 0111이 1111으로 변환 못하면, 문자형이 낫다)\n",
        "#문자열(str): Name , Gender , Nation , Company, Contract , C.Status , Accessibiliity"
      ]
    },
    {
      "cell_type": "code",
      "execution_count": null,
      "metadata": {
        "id": "KZ3IQ5rMMD-3"
      },
      "outputs": [],
      "source": [
        "\n",
        "UserData['Badge'] = UserData['Badge'].str.replace(' ','')\n",
        "UserData['Card'] = UserData['Card'].str.replace(' ','')\n",
        "#re.sub(r\"[^a-zA-Z0-9]\",\"\",string)\n",
        "import re \n",
        "for i in range(len(UserData)):\n",
        "    try:\n",
        "        Badge = UserData['Badge'].iloc[i]\n",
        "        #String = re.sub(r\"[^a-zA-Z0-9]\",\"\",String)\n",
        "        Badge = re.sub(r\"[^0-9]\",\"\",Badge)\n",
        "        UserData['Badge'].iloc[i] = Badge\n",
        "    #   print(UserData['Card'].iloc[i])\n",
        "        Card = UserData['Card'].iloc[i]\n",
        "        #String = re.sub(r\"[^a-zA-Z0-9]\",\"\",String)\n",
        "        Card = re.sub(r\"[^0-9]\",\"\",Card)\n",
        "        UserData['Card'].iloc[i] = Card\n",
        "    except:\n",
        "        pass"
      ]
    },
    {
      "cell_type": "code",
      "execution_count": null,
      "metadata": {
        "id": "1i6DrJ80Mqdn"
      },
      "outputs": [],
      "source": [
        "#UserData['Card'].iloc[28258] = UserData.iloc[28258]['Card'][:8]\n",
        "#UserData.iloc[28258]['Card']\n",
        "UserData['Badge'] =UserData['Badge'].astype(int)\n",
        "UserData\n",
        "UserData.info()"
      ]
    },
    {
      "cell_type": "code",
      "execution_count": null,
      "metadata": {
        "id": "viPm8a3CRWeg"
      },
      "outputs": [],
      "source": [
        "UserData = UserData[UserData['Card'] !='']\n",
        "UserData.reset_index(drop=True, inplace=True)\n",
        "for i in range(len(UserData)):\n",
        "    UserData['Card'].iloc[i] = UserData['Card'].iloc[i][:8] \n",
        "UserData['Card'] =UserData['Card'].astype(int)\n",
        "UserData\n",
        "UserData.info()  "
      ]
    },
    {
      "cell_type": "code",
      "execution_count": null,
      "metadata": {
        "id": "jYOCe9hoTge1"
      },
      "outputs": [],
      "source": [
        "UserData\n",
        "\n",
        "#엑셀\n",
        "\n",
        "#describtion: 해석 지금은 비워 두기\n",
        "#type \n",
        "\n",
        "#데이터 스키마 -> 데이터 베이스 작성 \n",
        "\n",
        "#nodejsm, express \n",
        "\n",
        "\n",
        "#데이터 베이스 ) mariaDB  "
      ]
    },
    {
      "cell_type": "code",
      "execution_count": 4,
      "metadata": {
        "id": "zKJVFw-DfQjH"
      },
      "outputs": [],
      "source": [
        "UserItem = {'Type' : ['String','String','String','String','String','String','String','String','String','String']}\n",
        "item = ['Badge', 'Name', 'Gender', 'Nation', 'Company', 'Contract', 'Position' , 'Card' , 'C.Status', 'Accessibiliity']\n",
        "UserDataFrame = pd.DataFrame(UserItem, columns=['Type', 'Description'], index = item)\n",
        "\n",
        "UserDataFrame.to_excel(\"C:/Users/kimjunseok/Downloads/UserDataFrame.xlsx\", index = True)"
      ]
    },
    {
      "cell_type": "code",
      "execution_count": 3,
      "metadata": {
        "id": "20xR4Iarkz8p"
      },
      "outputs": [],
      "source": [
        "import pandas as pd"
      ]
    },
    {
      "cell_type": "code",
      "execution_count": null,
      "metadata": {
        "id": "kKA4j6ZJmhUo"
      },
      "outputs": [],
      "source": []
    }
  ],
  "metadata": {
    "colab": {
      "name": "UserDataAnalysis.ipynb",
      "private_outputs": true,
      "provenance": []
    },
    "kernelspec": {
      "display_name": "Python 3.8.10 ('base')",
      "language": "python",
      "name": "python3"
    },
    "language_info": {
      "codemirror_mode": {
        "name": "ipython",
        "version": 3
      },
      "file_extension": ".py",
      "mimetype": "text/x-python",
      "name": "python",
      "nbconvert_exporter": "python",
      "pygments_lexer": "ipython3",
      "version": "3.8.10"
    },
    "vscode": {
      "interpreter": {
        "hash": "bb2adebce98d250b7fd63dcf2f268b10494db73c006860a7fd3a98b5b304c48d"
      }
    }
  },
  "nbformat": 4,
  "nbformat_minor": 0
}
