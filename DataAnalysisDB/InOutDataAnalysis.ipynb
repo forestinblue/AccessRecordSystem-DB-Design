{
 "cells": [
  {
   "cell_type": "markdown",
   "metadata": {},
   "source": [
    "#Numeric Types: int(정수), float(소수), complex(복소수)\n",
    "\n",
    "#Sequence Types: str(문자열), list(리스트), tuple(튜플)\n",
    "\n",
    "#Mapping Type: dict(딕셔너리)\n",
    "\n",
    "#Set Types: set(집합)\n",
    "\n",
    "#Boolean Type: bool(불리언)\n",
    "\n",
    "#Binary Types: bytes, bytearray, memoryview\n",
    "\n",
    "#정수(int): Badge , Card (만약 0111이 1111으로 변환 못하면, 문자형이 낫다)\n",
    "\n",
    "#문자열(str): Name , Gender , Nation , Company, Contract , C.Status , Accessibiliity"
   ]
  },
  {
   "cell_type": "code",
   "execution_count": 1,
   "metadata": {},
   "outputs": [
    {
     "data": {
      "text/html": [
       "<div>\n",
       "<style scoped>\n",
       "    .dataframe tbody tr th:only-of-type {\n",
       "        vertical-align: middle;\n",
       "    }\n",
       "\n",
       "    .dataframe tbody tr th {\n",
       "        vertical-align: top;\n",
       "    }\n",
       "\n",
       "    .dataframe thead th {\n",
       "        text-align: right;\n",
       "    }\n",
       "</style>\n",
       "<table border=\"1\" class=\"dataframe\">\n",
       "  <thead>\n",
       "    <tr style=\"text-align: right;\">\n",
       "      <th></th>\n",
       "      <th>Type</th>\n",
       "      <th>Description</th>\n",
       "    </tr>\n",
       "  </thead>\n",
       "  <tbody>\n",
       "    <tr>\n",
       "      <th>Badge</th>\n",
       "      <td>String</td>\n",
       "      <td>NaN</td>\n",
       "    </tr>\n",
       "    <tr>\n",
       "      <th>Gantry</th>\n",
       "      <td>String</td>\n",
       "      <td>NaN</td>\n",
       "    </tr>\n",
       "    <tr>\n",
       "      <th>Project</th>\n",
       "      <td>String</td>\n",
       "      <td>NaN</td>\n",
       "    </tr>\n",
       "    <tr>\n",
       "      <th>Card</th>\n",
       "      <td>String</td>\n",
       "      <td>NaN</td>\n",
       "    </tr>\n",
       "    <tr>\n",
       "      <th>User</th>\n",
       "      <td>String</td>\n",
       "      <td>NaN</td>\n",
       "    </tr>\n",
       "    <tr>\n",
       "      <th>Company</th>\n",
       "      <td>String</td>\n",
       "      <td>NaN</td>\n",
       "    </tr>\n",
       "    <tr>\n",
       "      <th>Status</th>\n",
       "      <td>String</td>\n",
       "      <td>NaN</td>\n",
       "    </tr>\n",
       "    <tr>\n",
       "      <th>Date</th>\n",
       "      <td>Datetime</td>\n",
       "      <td>NaN</td>\n",
       "    </tr>\n",
       "  </tbody>\n",
       "</table>\n",
       "</div>"
      ],
      "text/plain": [
       "             Type Description\n",
       "Badge      String         NaN\n",
       "Gantry     String         NaN\n",
       "Project    String         NaN\n",
       "Card       String         NaN\n",
       "User       String         NaN\n",
       "Company    String         NaN\n",
       "Status     String         NaN\n",
       "Date     Datetime         NaN"
      ]
     },
     "execution_count": 1,
     "metadata": {},
     "output_type": "execute_result"
    }
   ],
   "source": [
    "import pandas as pd\n",
    "InOutItem = {'Type' : ['String','String','String','String','String','String','String','Datetime']}\n",
    "item = ['Badge', 'Gantry', 'Project' , 'Card', 'User', 'Company', 'Status', 'Date']\n",
    "InOutDataFrame = pd.DataFrame(InOutItem, columns=['Type', 'Description'], index = item)\n",
    "InOutDataFrame\n",
    "#InOutDataFrame.to_excel(\"C:/Users/kimjunseok/Downloads/InOutDataFrame.xlsx\", index = True)\n"
   ]
  },
  {
   "cell_type": "code",
   "execution_count": 2,
   "metadata": {},
   "outputs": [
    {
     "data": {
      "text/html": [
       "<div>\n",
       "<style scoped>\n",
       "    .dataframe tbody tr th:only-of-type {\n",
       "        vertical-align: middle;\n",
       "    }\n",
       "\n",
       "    .dataframe tbody tr th {\n",
       "        vertical-align: top;\n",
       "    }\n",
       "\n",
       "    .dataframe thead th {\n",
       "        text-align: right;\n",
       "    }\n",
       "</style>\n",
       "<table border=\"1\" class=\"dataframe\">\n",
       "  <thead>\n",
       "    <tr style=\"text-align: right;\">\n",
       "      <th></th>\n",
       "      <th>Badge</th>\n",
       "      <th>Gantry</th>\n",
       "      <th>Project</th>\n",
       "      <th>Card</th>\n",
       "      <th>User</th>\n",
       "      <th>Company</th>\n",
       "      <th>Status</th>\n",
       "      <th>Date</th>\n",
       "    </tr>\n",
       "  </thead>\n",
       "  <tbody>\n",
       "    <tr>\n",
       "      <th>Example</th>\n",
       "      <td>027760</td>\n",
       "      <td>B20G1W006</td>\n",
       "      <td>WBS D</td>\n",
       "      <td>01956988</td>\n",
       "      <td>PHROMPONG WONGMAI</td>\n",
       "      <td>KAEFER</td>\n",
       "      <td>OUT</td>\n",
       "      <td>07/01/2022, 11:49</td>\n",
       "    </tr>\n",
       "  </tbody>\n",
       "</table>\n",
       "</div>"
      ],
      "text/plain": [
       "          Badge     Gantry Project      Card               User Company  \\\n",
       "Example  027760  B20G1W006   WBS D  01956988  PHROMPONG WONGMAI  KAEFER   \n",
       "\n",
       "        Status               Date  \n",
       "Example    OUT  07/01/2022, 11:49  "
      ]
     },
     "execution_count": 2,
     "metadata": {},
     "output_type": "execute_result"
    }
   ],
   "source": [
    "\n",
    "InOutItem = {'Example' : ['027760','B20G1W006','WBS D','01956988','PHROMPONG WONGMAI','KAEFER','OUT','07/01/2022, 11:49']}\n",
    "item = ['Badge', 'Gantry', 'Project' , 'Card', 'User', 'Company', 'Status', 'Date']\n",
    "InOutDataFrame = pd.DataFrame(InOutItem, columns=['Example'], index = item)\n",
    "InOutExample = InOutDataFrame.T\n",
    "InOutExample"
   ]
  },
  {
   "cell_type": "code",
   "execution_count": 3,
   "metadata": {},
   "outputs": [
    {
     "name": "stdout",
     "output_type": "stream",
     "text": [
      "<class 'pandas.core.frame.DataFrame'>\n",
      "Index: 1 entries, Example to Example\n",
      "Data columns (total 8 columns):\n",
      " #   Column   Non-Null Count  Dtype \n",
      "---  ------   --------------  ----- \n",
      " 0   Badge    1 non-null      object\n",
      " 1   Gantry   1 non-null      object\n",
      " 2   Project  1 non-null      object\n",
      " 3   Card     1 non-null      object\n",
      " 4   User     1 non-null      object\n",
      " 5   Company  1 non-null      object\n",
      " 6   Status   1 non-null      object\n",
      " 7   Date     1 non-null      object\n",
      "dtypes: object(8)\n",
      "memory usage: 180.0+ bytes\n"
     ]
    }
   ],
   "source": [
    "InOutExample.info()"
   ]
  },
  {
   "cell_type": "code",
   "execution_count": 4,
   "metadata": {},
   "outputs": [
    {
     "data": {
      "text/plain": [
       "Example   2022-07-01 11:49:00\n",
       "Name: Date, dtype: datetime64[ns]"
      ]
     },
     "execution_count": 4,
     "metadata": {},
     "output_type": "execute_result"
    }
   ],
   "source": [
    "InOutExample['Date']\n",
    "pd.to_datetime(InOutExample['Date'])"
   ]
  },
  {
   "cell_type": "code",
   "execution_count": 5,
   "metadata": {},
   "outputs": [
    {
     "data": {
      "text/plain": [
       "Example    07/01/2022, 11:49\n",
       "Name: Date, dtype: object"
      ]
     },
     "execution_count": 5,
     "metadata": {},
     "output_type": "execute_result"
    }
   ],
   "source": [
    "InOutExample['Date']"
   ]
  },
  {
   "cell_type": "code",
   "execution_count": 6,
   "metadata": {},
   "outputs": [],
   "source": [
    "InOutExample['Date'] = pd.to_datetime(InOutExample['Date'])"
   ]
  },
  {
   "cell_type": "code",
   "execution_count": 7,
   "metadata": {},
   "outputs": [
    {
     "data": {
      "text/html": [
       "<div>\n",
       "<style scoped>\n",
       "    .dataframe tbody tr th:only-of-type {\n",
       "        vertical-align: middle;\n",
       "    }\n",
       "\n",
       "    .dataframe tbody tr th {\n",
       "        vertical-align: top;\n",
       "    }\n",
       "\n",
       "    .dataframe thead th {\n",
       "        text-align: right;\n",
       "    }\n",
       "</style>\n",
       "<table border=\"1\" class=\"dataframe\">\n",
       "  <thead>\n",
       "    <tr style=\"text-align: right;\">\n",
       "      <th></th>\n",
       "      <th>Badge</th>\n",
       "      <th>Gantry</th>\n",
       "      <th>Project</th>\n",
       "      <th>Card</th>\n",
       "      <th>User</th>\n",
       "      <th>Company</th>\n",
       "      <th>Status</th>\n",
       "      <th>Date</th>\n",
       "    </tr>\n",
       "  </thead>\n",
       "  <tbody>\n",
       "    <tr>\n",
       "      <th>Example</th>\n",
       "      <td>027760</td>\n",
       "      <td>B20G1W006</td>\n",
       "      <td>WBS D</td>\n",
       "      <td>01956988</td>\n",
       "      <td>PHROMPONG WONGMAI</td>\n",
       "      <td>KAEFER</td>\n",
       "      <td>OUT</td>\n",
       "      <td>2022-07-01 11:49:00</td>\n",
       "    </tr>\n",
       "  </tbody>\n",
       "</table>\n",
       "</div>"
      ],
      "text/plain": [
       "          Badge     Gantry Project      Card               User Company  \\\n",
       "Example  027760  B20G1W006   WBS D  01956988  PHROMPONG WONGMAI  KAEFER   \n",
       "\n",
       "        Status                Date  \n",
       "Example    OUT 2022-07-01 11:49:00  "
      ]
     },
     "execution_count": 7,
     "metadata": {},
     "output_type": "execute_result"
    }
   ],
   "source": [
    "InOutExample"
   ]
  },
  {
   "cell_type": "code",
   "execution_count": 8,
   "metadata": {},
   "outputs": [
    {
     "name": "stdout",
     "output_type": "stream",
     "text": [
      "<class 'pandas.core.frame.DataFrame'>\n",
      "Index: 1 entries, Example to Example\n",
      "Data columns (total 8 columns):\n",
      " #   Column   Non-Null Count  Dtype         \n",
      "---  ------   --------------  -----         \n",
      " 0   Badge    1 non-null      object        \n",
      " 1   Gantry   1 non-null      object        \n",
      " 2   Project  1 non-null      object        \n",
      " 3   Card     1 non-null      object        \n",
      " 4   User     1 non-null      object        \n",
      " 5   Company  1 non-null      object        \n",
      " 6   Status   1 non-null      object        \n",
      " 7   Date     1 non-null      datetime64[ns]\n",
      "dtypes: datetime64[ns](1), object(7)\n",
      "memory usage: 180.0+ bytes\n"
     ]
    }
   ],
   "source": [
    "InOutExample.info()"
   ]
  },
  {
   "cell_type": "code",
   "execution_count": null,
   "metadata": {},
   "outputs": [],
   "source": [
    "#datetime ㅂㄹ"
   ]
  }
 ],
 "metadata": {
  "kernelspec": {
   "display_name": "Python 3.8.10 ('base')",
   "language": "python",
   "name": "python3"
  },
  "language_info": {
   "codemirror_mode": {
    "name": "ipython",
    "version": 3
   },
   "file_extension": ".py",
   "mimetype": "text/x-python",
   "name": "python",
   "nbconvert_exporter": "python",
   "pygments_lexer": "ipython3",
   "version": "3.8.10"
  },
  "orig_nbformat": 4,
  "vscode": {
   "interpreter": {
    "hash": "bb2adebce98d250b7fd63dcf2f268b10494db73c006860a7fd3a98b5b304c48d"
   }
  }
 },
 "nbformat": 4,
 "nbformat_minor": 2
}
