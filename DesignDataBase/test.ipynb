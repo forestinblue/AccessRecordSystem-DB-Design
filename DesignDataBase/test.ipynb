{
 "cells": [
  {
   "cell_type": "code",
   "execution_count": 13,
   "metadata": {},
   "outputs": [],
   "source": [
    "conn = pymysql.connect (host ='127.0.0.1', user ='root',password ='system', db ='test', charset='utf8' )"
   ]
  },
  {
   "cell_type": "code",
   "execution_count": 14,
   "metadata": {},
   "outputs": [
    {
     "name": "stdout",
     "output_type": "stream",
     "text": [
      "conn now\n",
      "done conn.cursor\n",
      "close\n"
     ]
    }
   ],
   "source": [
    "import pymysql\n",
    "conn = None\n",
    "cur = None\n",
    "sql = \"\"\n",
    "conn = pymysql.connect (host ='127.0.0.1', user ='root',password ='system', db ='test', charset='utf8' )\n",
    "#'10.100.100.42'\n",
    "#'10.100.100.128'\n",
    "print('conn now')\n",
    "sql = \"CREATE TABLE IF NOT EXISTS userTable (id char(4), userName char(10),email char(15), birthYear int)\"\n",
    "cur = conn.cursor()\n",
    "print('done conn.cursor')\n",
    "cur.execute(sql)\n",
    "conn.commit()\n",
    "print('close')\n",
    "conn.close()"
   ]
  }
 ],
 "metadata": {
  "kernelspec": {
   "display_name": "Python 3.8.10 ('base')",
   "language": "python",
   "name": "python3"
  },
  "language_info": {
   "codemirror_mode": {
    "name": "ipython",
    "version": 3
   },
   "file_extension": ".py",
   "mimetype": "text/x-python",
   "name": "python",
   "nbconvert_exporter": "python",
   "pygments_lexer": "ipython3",
   "version": "3.8.10"
  },
  "orig_nbformat": 4,
  "vscode": {
   "interpreter": {
    "hash": "bb2adebce98d250b7fd63dcf2f268b10494db73c006860a7fd3a98b5b304c48d"
   }
  }
 },
 "nbformat": 4,
 "nbformat_minor": 2
}
